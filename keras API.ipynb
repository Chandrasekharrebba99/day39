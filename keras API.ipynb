{
 "cells": [
  {
   "cell_type": "code",
   "execution_count": 1,
   "id": "0b1a728e",
   "metadata": {},
   "outputs": [],
   "source": [
    "import numpy as np\n",
    "import pandas as pd\n",
    "from random import randint \n",
    "from sklearn.utils import shuffle\n",
    "from sklearn.preprocessing import MinMaxScaler\n"
   ]
  },
  {
   "cell_type": "code",
   "execution_count": 23,
   "id": "6923baa8",
   "metadata": {},
   "outputs": [],
   "source": [
    "train_labels = []\n",
    "train_samples = []"
   ]
  },
  {
   "cell_type": "markdown",
   "id": "eaefdbea",
   "metadata": {},
   "source": [
    "#### Experinent\n",
    ".An experiment drug was tested on individuals from ages 13 to 100 in a clinc trail.                  \n",
    ".The Trail has 2100 participents .Half were under 65 years old and Half were 65 years older          \n",
    ".Around 95% of patiants 65 or older experienced side effects.                                       \n",
    ".Around 95% patiants under 65 are no side effects."
   ]
  },
  {
   "cell_type": "code",
   "execution_count": 24,
   "id": "582987bd",
   "metadata": {},
   "outputs": [],
   "source": [
    "for i in range(50):\n",
    "    #5% of youngers who experienceed side effects\n",
    "    randum_younger = randint(13,64)\n",
    "    train_samples.append(randum_younger)\n",
    "    train_labels.append(1)\n",
    "    #5% of older who did not experienced side effects\n",
    "    random_older = randint(65,100)\n",
    "    train_samples.append(random_older)\n",
    "    train_labels.append(0)\n",
    "for i in range(1000):\n",
    "    #95 of youngers who experienceed side effects\n",
    "    randum_younger = randint(13,64)\n",
    "    train_samples.append(randum_younger)\n",
    "    train_labels.append(1)\n",
    "    #95 of older who did not experienced side effects\n",
    "    random_older = randint(65,100)\n",
    "    train_samples.append(random_older)\n",
    "    train_labels.append(0)"
   ]
  },
  {
   "cell_type": "code",
   "execution_count": 27,
   "id": "29f17495",
   "metadata": {},
   "outputs": [
    {
     "name": "stdout",
     "output_type": "stream",
     "text": [
      "[1, 0, 1, 0, 1, 0, 1, 0, 1, 0, 1, 0, 1, 0, 1, 0, 1, 0, 1, 0, 1, 0, 1, 0, 1, 0, 1, 0, 1, 0, 1, 0, 1, 0, 1, 0, 1, 0, 1, 0, 1, 0, 1, 0, 1, 0, 1, 0, 1, 0, 1, 0, 1, 0, 1, 0, 1, 0, 1, 0, 1, 0, 1, 0, 1, 0, 1, 0, 1, 0, 1, 0, 1, 0, 1, 0, 1, 0, 1, 0, 1, 0, 1, 0, 1, 0, 1, 0, 1, 0, 1, 0, 1, 0, 1, 0, 1, 0, 1, 0, 1, 0, 1, 0, 1, 0, 1, 0, 1, 0, 1, 0, 1, 0, 1, 0, 1, 0, 1, 0, 1, 0, 1, 0, 1, 0, 1, 0, 1, 0, 1, 0, 1, 0, 1, 0, 1, 0, 1, 0, 1, 0, 1, 0, 1, 0, 1, 0, 1, 0, 1, 0, 1, 0, 1, 0, 1, 0, 1, 0, 1, 0, 1, 0, 1, 0, 1, 0, 1, 0, 1, 0, 1, 0, 1, 0, 1, 0, 1, 0, 1, 0, 1, 0, 1, 0, 1, 0, 1, 0, 1, 0, 1, 0, 1, 0, 1, 0, 1, 0, 1, 0, 1, 0, 1, 0, 1, 0, 1, 0, 1, 0, 1, 0, 1, 0, 1, 0, 1, 0, 1, 0, 1, 0, 1, 0, 1, 0, 1, 0, 1, 0, 1, 0, 1, 0, 1, 0, 1, 0, 1, 0, 1, 0, 1, 0, 1, 0, 1, 0, 1, 0, 1, 0, 1, 0, 1, 0, 1, 0, 1, 0, 1, 0, 1, 0, 1, 0, 1, 0, 1, 0, 1, 0, 1, 0, 1, 0, 1, 0, 1, 0, 1, 0, 1, 0, 1, 0, 1, 0, 1, 0, 1, 0, 1, 0, 1, 0, 1, 0, 1, 0, 1, 0, 1, 0, 1, 0, 1, 0, 1, 0, 1, 0, 1, 0, 1, 0, 1, 0, 1, 0, 1, 0, 1, 0, 1, 0, 1, 0, 1, 0, 1, 0, 1, 0, 1, 0, 1, 0, 1, 0, 1, 0, 1, 0, 1, 0, 1, 0, 1, 0, 1, 0, 1, 0, 1, 0, 1, 0, 1, 0, 1, 0, 1, 0, 1, 0, 1, 0, 1, 0, 1, 0, 1, 0, 1, 0, 1, 0, 1, 0, 1, 0, 1, 0, 1, 0, 1, 0, 1, 0, 1, 0, 1, 0, 1, 0, 1, 0, 1, 0, 1, 0, 1, 0, 1, 0, 1, 0, 1, 0, 1, 0, 1, 0, 1, 0, 1, 0, 1, 0, 1, 0, 1, 0, 1, 0, 1, 0, 1, 0, 1, 0, 1, 0, 1, 0, 1, 0, 1, 0, 1, 0, 1, 0, 1, 0, 1, 0, 1, 0, 1, 0, 1, 0, 1, 0, 1, 0, 1, 0, 1, 0, 1, 0, 1, 0, 1, 0, 1, 0, 1, 0, 1, 0, 1, 0, 1, 0, 1, 0, 1, 0, 1, 0, 1, 0, 1, 0, 1, 0, 1, 0, 1, 0, 1, 0, 1, 0, 1, 0, 1, 0, 1, 0, 1, 0, 1, 0, 1, 0, 1, 0, 1, 0, 1, 0, 1, 0, 1, 0, 1, 0, 1, 0, 1, 0, 1, 0, 1, 0, 1, 0, 1, 0, 1, 0, 1, 0, 1, 0, 1, 0, 1, 0, 1, 0, 1, 0, 1, 0, 1, 0, 1, 0, 1, 0, 1, 0, 1, 0, 1, 0, 1, 0, 1, 0, 1, 0, 1, 0, 1, 0, 1, 0, 1, 0, 1, 0, 1, 0, 1, 0, 1, 0, 1, 0, 1, 0, 1, 0, 1, 0, 1, 0, 1, 0, 1, 0, 1, 0, 1, 0, 1, 0, 1, 0, 1, 0, 1, 0, 1, 0, 1, 0, 1, 0, 1, 0, 1, 0, 1, 0, 1, 0, 1, 0, 1, 0, 1, 0, 1, 0, 1, 0, 1, 0, 1, 0, 1, 0, 1, 0, 1, 0, 1, 0, 1, 0, 1, 0, 1, 0, 1, 0, 1, 0, 1, 0, 1, 0, 1, 0, 1, 0, 1, 0, 1, 0, 1, 0, 1, 0, 1, 0, 1, 0, 1, 0, 1, 0, 1, 0, 1, 0, 1, 0, 1, 0, 1, 0, 1, 0, 1, 0, 1, 0, 1, 0, 1, 0, 1, 0, 1, 0, 1, 0, 1, 0, 1, 0, 1, 0, 1, 0, 1, 0, 1, 0, 1, 0, 1, 0, 1, 0, 1, 0, 1, 0, 1, 0, 1, 0, 1, 0, 1, 0, 1, 0, 1, 0, 1, 0, 1, 0, 1, 0, 1, 0, 1, 0, 1, 0, 1, 0, 1, 0, 1, 0, 1, 0, 1, 0, 1, 0, 1, 0, 1, 0, 1, 0, 1, 0, 1, 0, 1, 0, 1, 0, 1, 0, 1, 0, 1, 0, 1, 0, 1, 0, 1, 0, 1, 0, 1, 0, 1, 0, 1, 0, 1, 0, 1, 0, 1, 0, 1, 0, 1, 0, 1, 0, 1, 0, 1, 0, 1, 0, 1, 0, 1, 0, 1, 0, 1, 0, 1, 0, 1, 0, 1, 0, 1, 0, 1, 0, 1, 0, 1, 0, 1, 0, 1, 0, 1, 0, 1, 0, 1, 0, 1, 0, 1, 0, 1, 0, 1, 0, 1, 0, 1, 0, 1, 0, 1, 0, 1, 0, 1, 0, 1, 0, 1, 0, 1, 0, 1, 0, 1, 0, 1, 0, 1, 0, 1, 0, 1, 0, 1, 0, 1, 0, 1, 0, 1, 0, 1, 0, 1, 0, 1, 0, 1, 0, 1, 0, 1, 0, 1, 0, 1, 0, 1, 0, 1, 0, 1, 0, 1, 0, 1, 0, 1, 0, 1, 0, 1, 0, 1, 0, 1, 0, 1, 0, 1, 0, 1, 0, 1, 0, 1, 0, 1, 0, 1, 0, 1, 0, 1, 0, 1, 0, 1, 0, 1, 0, 1, 0, 1, 0, 1, 0, 1, 0, 1, 0, 1, 0, 1, 0, 1, 0, 1, 0, 1, 0, 1, 0, 1, 0, 1, 0, 1, 0, 1, 0, 1, 0, 1, 0, 1, 0, 1, 0, 1, 0, 1, 0, 1, 0, 1, 0, 1, 0, 1, 0, 1, 0, 1, 0, 1, 0, 1, 0, 1, 0, 1, 0, 1, 0, 1, 0, 1, 0, 1, 0, 1, 0, 1, 0, 1, 0, 1, 0, 1, 0, 1, 0, 1, 0, 1, 0, 1, 0, 1, 0, 1, 0, 1, 0, 1, 0, 1, 0, 1, 0, 1, 0, 1, 0, 1, 0, 1, 0, 1, 0, 1, 0, 1, 0, 1, 0, 1, 0, 1, 0, 1, 0, 1, 0, 1, 0, 1, 0, 1, 0, 1, 0, 1, 0, 1, 0, 1, 0, 1, 0, 1, 0, 1, 0, 1, 0, 1, 0, 1, 0, 1, 0, 1, 0, 1, 0, 1, 0, 1, 0, 1, 0, 1, 0, 1, 0, 1, 0, 1, 0, 1, 0, 1, 0, 1, 0, 1, 0, 1, 0, 1, 0, 1, 0, 1, 0, 1, 0, 1, 0, 1, 0, 1, 0, 1, 0, 1, 0, 1, 0, 1, 0, 1, 0, 1, 0, 1, 0, 1, 0, 1, 0, 1, 0, 1, 0, 1, 0, 1, 0, 1, 0, 1, 0, 1, 0, 1, 0, 1, 0, 1, 0, 1, 0, 1, 0, 1, 0, 1, 0, 1, 0, 1, 0, 1, 0, 1, 0, 1, 0, 1, 0, 1, 0, 1, 0, 1, 0, 1, 0, 1, 0, 1, 0, 1, 0, 1, 0, 1, 0, 1, 0, 1, 0, 1, 0, 1, 0, 1, 0, 1, 0, 1, 0, 1, 0, 1, 0, 1, 0, 1, 0, 1, 0, 1, 0, 1, 0, 1, 0, 1, 0, 1, 0, 1, 0, 1, 0, 1, 0, 1, 0, 1, 0, 1, 0, 1, 0, 1, 0, 1, 0, 1, 0, 1, 0, 1, 0, 1, 0, 1, 0, 1, 0, 1, 0, 1, 0, 1, 0, 1, 0, 1, 0, 1, 0, 1, 0, 1, 0, 1, 0, 1, 0, 1, 0, 1, 0, 1, 0, 1, 0, 1, 0, 1, 0, 1, 0, 1, 0, 1, 0, 1, 0, 1, 0, 1, 0, 1, 0, 1, 0, 1, 0, 1, 0, 1, 0, 1, 0, 1, 0, 1, 0, 1, 0, 1, 0, 1, 0, 1, 0, 1, 0, 1, 0, 1, 0, 1, 0, 1, 0, 1, 0, 1, 0, 1, 0, 1, 0, 1, 0, 1, 0, 1, 0, 1, 0, 1, 0, 1, 0, 1, 0, 1, 0, 1, 0, 1, 0, 1, 0, 1, 0, 1, 0, 1, 0, 1, 0, 1, 0, 1, 0, 1, 0, 1, 0, 1, 0, 1, 0, 1, 0, 1, 0, 1, 0, 1, 0, 1, 0, 1, 0, 1, 0, 1, 0, 1, 0, 1, 0, 1, 0, 1, 0, 1, 0, 1, 0, 1, 0, 1, 0, 1, 0, 1, 0, 1, 0, 1, 0, 1, 0, 1, 0, 1, 0, 1, 0, 1, 0, 1, 0, 1, 0, 1, 0, 1, 0, 1, 0, 1, 0, 1, 0, 1, 0, 1, 0, 1, 0, 1, 0, 1, 0, 1, 0, 1, 0, 1, 0, 1, 0, 1, 0, 1, 0, 1, 0, 1, 0, 1, 0, 1, 0, 1, 0, 1, 0, 1, 0, 1, 0, 1, 0, 1, 0, 1, 0, 1, 0, 1, 0, 1, 0, 1, 0, 1, 0, 1, 0, 1, 0, 1, 0, 1, 0, 1, 0, 1, 0, 1, 0, 1, 0, 1, 0, 1, 0, 1, 0, 1, 0, 1, 0, 1, 0, 1, 0, 1, 0, 1, 0, 1, 0, 1, 0, 1, 0, 1, 0, 1, 0, 1, 0, 1, 0, 1, 0, 1, 0, 1, 0, 1, 0, 1, 0, 1, 0, 1, 0, 1, 0, 1, 0, 1, 0, 1, 0, 1, 0, 1, 0, 1, 0, 1, 0, 1, 0, 1, 0, 1, 0, 1, 0, 1, 0, 1, 0, 1, 0, 1, 0, 1, 0, 1, 0, 1, 0, 1, 0, 1, 0, 1, 0, 1, 0, 1, 0, 1, 0, 1, 0, 1, 0, 1, 0, 1, 0, 1, 0, 1, 0, 1, 0, 1, 0, 1, 0, 1, 0, 1, 0, 1, 0, 1, 0, 1, 0, 1, 0, 1, 0, 1, 0, 1, 0, 1, 0, 1, 0, 1, 0, 1, 0, 1, 0, 1, 0, 1, 0, 1, 0, 1, 0, 1, 0, 1, 0, 1, 0, 1, 0, 1, 0, 1, 0, 1, 0, 1, 0, 1, 0, 1, 0, 1, 0, 1, 0, 1, 0, 1, 0, 1, 0, 1, 0, 1, 0, 1, 0, 1, 0, 1, 0, 1, 0, 1, 0, 1, 0, 1, 0, 1, 0, 1, 0, 1, 0, 1, 0, 1, 0, 1, 0, 1, 0, 1, 0, 1, 0, 1, 0, 1, 0, 1, 0, 1, 0, 1, 0, 1, 0, 1, 0, 1, 0, 1, 0, 1, 0, 1, 0, 1, 0, 1, 0, 1, 0, 1, 0, 1, 0, 1, 0, 1, 0, 1, 0, 1, 0, 1, 0, 1, 0, 1, 0, 1, 0, 1, 0, 1, 0, 1, 0, 1, 0, 1, 0, 1, 0, 1, 0, 1, 0, 1, 0, 1, 0, 1, 0, 1, 0, 1, 0, 1, 0, 1, 0, 1, 0, 1, 0, 1, 0, 1, 0, 1, 0, 1, 0, 1, 0, 1, 0, 1, 0, 1, 0, 1, 0, 1, 0, 1, 0, 1, 0, 1, 0, 1, 0, 1, 0, 1, 0, 1, 0, 1, 0, 1, 0, 1, 0, 1, 0, 1, 0, 1, 0, 1, 0, 1, 0, 1, 0, 1, 0, 1, 0, 1, 0, 1, 0, 1, 0, 1, 0, 1, 0, 1, 0, 1, 0, 1, 0, 1, 0, 1, 0, 1, 0, 1, 0, 1, 0, 1, 0, 1, 0, 1, 0, 1, 0, 1, 0, 1, 0, 1, 0, 1, 0, 1, 0, 1, 0, 1, 0, 1, 0, 1, 0, 1, 0, 1, 0, 1, 0, 1, 0, 1, 0, 1, 0, 1, 0, 1, 0, 1, 0, 1, 0, 1, 0, 1, 0, 1, 0, 1, 0, 1, 0, 1, 0, 1, 0, 1, 0, 1, 0, 1, 0, 1, 0, 1, 0, 1, 0, 1, 0, 1, 0, 1, 0, 1, 0, 1, 0, 1, 0, 1, 0, 1, 0, 1, 0, 1, 0, 1, 0, 1, 0, 1, 0, 1, 0, 1, 0, 1, 0, 1, 0, 1, 0, 1, 0, 1, 0, 1, 0, 1, 0, 1, 0, 1, 0, 1, 0, 1, 0, 1, 0, 1, 0, 1, 0, 1, 0, 1, 0, 1, 0, 1, 0, 1, 0, 1, 0, 1, 0, 1, 0, 1, 0, 1, 0, 1, 0, 1, 0, 1, 0, 1, 0, 1, 0, 1, 0, 1, 0, 1, 0, 1, 0]\n"
     ]
    }
   ],
   "source": [
    "print(train_labels)"
   ]
  },
  {
   "cell_type": "code",
   "execution_count": 29,
   "id": "6b3f5ffa",
   "metadata": {},
   "outputs": [
    {
     "name": "stdout",
     "output_type": "stream",
     "text": [
      "[60, 95, 27, 94, 46, 79, 23, 71, 62, 86, 31, 86, 39, 99, 50, 92, 33, 79, 29, 74, 30, 90, 42, 94, 60, 98, 34, 78, 30, 82, 22, 95, 57, 92, 19, 80, 27, 76, 32, 90, 52, 94, 52, 77, 18, 93, 38, 70, 40, 83, 22, 77, 15, 91, 43, 89, 41, 82, 31, 91, 25, 72, 64, 74, 39, 84, 55, 67, 35, 85, 47, 90, 47, 81, 34, 66, 33, 91, 20, 71, 49, 96, 63, 99, 53, 80, 30, 88, 13, 76, 23, 96, 30, 67, 39, 100, 28, 98, 27, 90, 33, 100, 62, 67, 44, 97, 50, 94, 35, 69, 50, 80, 36, 95, 15, 74, 59, 75, 32, 80, 23, 77, 64, 96, 57, 80, 28, 86, 37, 88, 47, 76, 45, 92, 59, 97, 38, 85, 48, 75, 56, 86, 50, 92, 56, 81, 56, 65, 62, 97, 30, 77, 24, 96, 39, 83, 54, 81, 21, 73, 36, 91, 15, 92, 30, 71, 24, 86, 50, 96, 17, 97, 14, 91, 59, 89, 32, 67, 60, 66, 37, 82, 37, 88, 50, 81, 54, 80, 41, 82, 31, 70, 29, 82, 46, 80, 25, 100, 26, 76, 43, 72, 51, 74, 43, 70, 20, 75, 49, 67, 40, 67, 17, 72, 60, 98, 41, 83, 36, 78, 15, 70, 64, 69, 15, 84, 55, 86, 59, 74, 59, 99, 33, 80, 40, 92, 44, 98, 56, 68, 50, 67, 39, 93, 32, 86, 43, 88, 21, 93, 16, 83, 21, 90, 14, 66, 63, 94, 46, 86, 49, 78, 21, 94, 31, 77, 40, 90, 53, 93, 56, 99, 45, 75, 45, 65, 22, 77, 39, 99, 39, 97, 39, 95, 53, 80, 37, 80, 55, 89, 14, 69, 16, 69, 29, 68, 61, 92, 52, 91, 33, 77, 17, 91, 21, 81, 60, 78, 55, 100, 47, 81, 26, 85, 39, 71, 31, 76, 26, 92, 21, 96, 48, 81, 45, 91, 40, 88, 38, 94, 43, 70, 43, 67, 14, 80, 44, 75, 57, 96, 35, 95, 52, 77, 32, 72, 63, 72, 31, 91, 21, 81, 39, 68, 52, 77, 45, 96, 40, 91, 63, 66, 16, 80, 31, 84, 37, 95, 30, 66, 23, 76, 14, 89, 24, 70, 23, 67, 53, 75, 16, 71, 34, 80, 45, 86, 21, 99, 15, 77, 27, 89, 45, 67, 18, 82, 41, 70, 31, 71, 62, 77, 46, 87, 41, 74, 38, 78, 15, 94, 15, 97, 46, 96, 61, 84, 26, 88, 25, 79, 46, 67, 13, 91, 63, 65, 54, 85, 53, 71, 41, 73, 64, 91, 25, 74, 53, 90, 63, 75, 58, 75, 18, 78, 40, 71, 27, 86, 14, 98, 54, 88, 23, 91, 28, 81, 20, 92, 17, 89, 23, 84, 15, 85, 31, 71, 33, 86, 51, 69, 58, 81, 13, 69, 41, 93, 62, 65, 44, 66, 59, 96, 16, 86, 45, 83, 52, 76, 13, 69, 46, 98, 53, 94, 56, 90, 32, 97, 46, 65, 21, 68, 32, 77, 24, 84, 57, 78, 33, 66, 34, 65, 35, 97, 22, 71, 24, 96, 57, 87, 53, 88, 49, 84, 54, 70, 30, 79, 30, 80, 52, 91, 52, 69, 57, 77, 60, 72, 33, 74, 13, 77, 34, 84, 40, 71, 29, 98, 61, 70, 21, 77, 41, 75, 36, 96, 45, 92, 40, 84, 35, 78, 58, 74, 59, 87, 42, 68, 57, 98, 19, 82, 57, 88, 56, 76, 38, 66, 13, 70, 19, 96, 38, 65, 48, 66, 19, 76, 45, 77, 47, 74, 56, 89, 25, 83, 27, 77, 17, 70, 15, 94, 61, 98, 20, 77, 19, 86, 36, 86, 56, 90, 64, 65, 23, 100, 59, 95, 34, 93, 53, 85, 48, 90, 17, 83, 46, 100, 33, 86, 30, 98, 49, 84, 16, 82, 36, 100, 42, 74, 21, 66, 63, 92, 13, 85, 50, 92, 18, 79, 49, 69, 34, 100, 52, 98, 34, 82, 32, 82, 47, 71, 61, 91, 62, 72, 55, 75, 31, 78, 22, 86, 34, 78, 58, 69, 57, 81, 20, 93, 18, 88, 47, 66, 41, 100, 32, 88, 49, 81, 34, 91, 35, 75, 13, 74, 41, 97, 40, 95, 52, 71, 37, 94, 32, 73, 17, 82, 17, 75, 54, 81, 23, 90, 47, 72, 43, 83, 22, 91, 55, 89, 51, 77, 35, 85, 31, 90, 47, 77, 25, 82, 22, 87, 24, 74, 55, 97, 53, 83, 38, 89, 45, 84, 38, 72, 55, 95, 35, 72, 45, 82, 45, 96, 53, 96, 38, 86, 51, 74, 17, 86, 36, 77, 41, 92, 16, 98, 62, 74, 54, 100, 58, 67, 31, 82, 14, 99, 50, 77, 64, 96, 31, 68, 48, 94, 36, 80, 54, 98, 33, 100, 42, 89, 27, 85, 38, 86, 22, 93, 18, 84, 64, 97, 54, 96, 55, 96, 27, 65, 14, 92, 22, 100, 55, 83, 38, 72, 21, 74, 19, 99, 24, 70, 48, 96, 29, 86, 14, 73, 34, 85, 30, 84, 34, 94, 23, 96, 15, 86, 16, 69, 56, 68, 30, 90, 19, 67, 23, 67, 18, 84, 60, 80, 55, 77, 24, 84, 59, 77, 18, 66, 42, 80, 43, 79, 16, 98, 26, 93, 22, 88, 16, 76, 45, 91, 40, 97, 63, 83, 49, 97, 63, 82, 54, 98, 43, 83, 38, 89, 59, 100, 27, 76, 37, 83, 58, 73, 36, 81, 21, 72, 63, 98, 42, 74, 14, 80, 29, 87, 63, 76, 59, 77, 33, 77, 51, 97, 16, 79, 34, 100, 17, 92, 26, 96, 15, 77, 16, 81, 51, 79, 26, 99, 24, 74, 47, 70, 59, 68, 30, 70, 32, 87, 32, 91, 22, 83, 47, 82, 17, 74, 54, 75, 54, 86, 55, 94, 27, 77, 50, 65, 49, 92, 55, 74, 61, 87, 60, 95, 35, 82, 54, 76, 62, 99, 15, 81, 29, 67, 16, 71, 50, 91, 29, 90, 36, 74, 60, 90, 23, 65, 54, 88, 52, 98, 56, 84, 34, 73, 36, 66, 15, 73, 57, 75, 41, 74, 39, 94, 25, 80, 26, 73, 32, 91, 64, 83, 34, 76, 45, 84, 57, 90, 47, 96, 39, 65, 46, 84, 62, 88, 47, 83, 61, 70, 60, 86, 56, 79, 16, 84, 27, 73, 42, 99, 26, 81, 52, 82, 19, 79, 45, 75, 64, 65, 26, 73, 44, 94, 50, 65, 31, 89, 33, 76, 52, 90, 31, 72, 38, 95, 48, 81, 15, 81, 54, 76, 30, 92, 47, 86, 45, 76, 42, 72, 30, 71, 20, 93, 57, 98, 36, 97, 62, 79, 16, 75, 35, 75, 25, 83, 52, 82, 56, 75, 29, 83, 38, 86, 54, 76, 26, 79, 14, 80, 52, 69, 45, 82, 35, 80, 28, 94, 64, 84, 22, 97, 18, 89, 42, 73, 62, 95, 39, 96, 17, 76, 62, 97, 47, 90, 23, 66, 57, 98, 22, 67, 18, 83, 50, 96, 19, 93, 30, 96, 31, 77, 26, 66, 54, 92, 48, 65, 61, 84, 52, 67, 34, 85, 49, 66, 56, 82, 22, 98, 53, 65, 29, 84, 21, 87, 53, 97, 35, 85, 56, 71, 59, 68, 35, 84, 38, 92, 63, 81, 23, 65, 13, 74, 48, 98, 27, 94, 40, 77, 22, 86, 14, 81, 46, 76, 18, 82, 37, 90, 23, 90, 35, 98, 39, 83, 40, 71, 47, 97, 54, 86, 48, 87, 16, 84, 63, 100, 44, 74, 18, 93, 58, 98, 20, 87, 31, 71, 44, 74, 31, 100, 64, 75, 61, 90, 35, 66, 43, 80, 22, 76, 24, 86, 41, 79, 62, 96, 39, 100, 25, 83, 61, 94, 63, 74, 43, 82, 32, 93, 41, 90, 36, 84, 20, 92, 18, 65, 63, 88, 56, 85, 39, 87, 17, 98, 32, 77, 25, 97, 20, 65, 61, 69, 48, 77, 32, 94, 17, 69, 17, 74, 29, 92, 62, 93, 50, 73, 42, 76, 21, 94, 17, 99, 20, 97, 37, 84, 57, 84, 32, 70, 57, 68, 29, 95, 21, 96, 24, 68, 14, 76, 17, 88, 62, 91, 15, 84, 57, 88, 55, 88, 37, 90, 50, 67, 46, 92, 42, 93, 64, 94, 60, 90, 13, 93, 36, 86, 26, 89, 58, 89, 16, 85, 23, 71, 58, 69, 52, 92, 36, 78, 61, 87, 36, 70, 45, 85, 56, 91, 34, 84, 35, 85, 22, 87, 39, 97, 59, 87, 42, 69, 30, 84, 20, 73, 17, 67, 37, 78, 43, 100, 54, 88, 27, 89, 50, 67, 20, 69, 46, 73, 35, 68, 63, 69, 16, 92, 34, 79, 45, 73, 43, 100, 18, 82, 22, 100, 63, 96, 42, 89, 63, 98, 35, 92, 37, 76, 19, 71, 18, 94, 27, 74, 26, 92, 26, 87, 25, 97, 40, 66, 35, 72, 23, 66, 22, 89, 42, 85, 25, 69, 59, 80, 16, 98, 13, 65, 58, 72, 13, 78, 15, 99, 49, 90, 39, 100, 40, 98, 27, 94, 14, 79, 61, 83, 25, 67, 27, 66, 20, 77, 18, 68, 41, 73, 57, 79, 16, 65, 30, 74, 50, 76, 43, 74, 52, 65, 55, 90, 28, 70, 55, 90, 30, 81, 49, 72, 24, 81, 57, 93, 17, 87, 29, 93, 15, 95, 15, 88, 28, 75, 21, 72, 57, 73, 58, 97, 16, 90, 35, 93, 42, 80, 61, 85, 49, 96, 25, 90, 48, 96, 16, 99, 25, 100, 52, 83, 33, 92, 51, 100, 64, 65, 20, 66, 40, 94, 46, 74, 64, 70, 15, 75, 61, 76, 20, 79, 48, 89, 41, 96, 22, 71, 39, 87, 33, 83, 29, 76, 22, 86, 22, 75, 25, 80, 44, 88, 39, 97, 45, 95, 16, 95, 41, 84, 20, 82, 37, 78, 25, 93, 48, 84, 61, 88, 53, 90, 14, 85, 29, 86, 22, 78, 20, 77, 36, 87, 26, 100, 29, 86, 19, 87, 37, 87, 46, 84, 43, 90, 28, 81, 57, 79, 62, 80, 40, 74, 41, 73, 15, 71, 35, 90, 33, 98, 36, 68, 27, 76, 34, 68, 53, 86, 46, 68, 54, 89, 36, 79, 43, 90, 55, 94, 55, 89, 25, 88, 38, 82, 14, 88, 31, 90, 27, 80, 38, 85, 41, 66, 20, 99, 52, 80, 21, 94, 50, 67, 23, 85, 33, 72, 35, 91, 18, 100, 21, 86, 45, 86, 38, 67, 17, 79, 49, 94, 57, 77, 58, 95, 46, 74, 32, 74, 51, 95, 57, 93, 57, 71, 59, 99, 40, 100, 47, 74, 25, 77, 31, 96, 40, 98, 60, 73, 49, 78, 46, 98, 62, 83, 50, 67, 26, 68, 43, 96, 43, 82, 46, 94, 46, 100, 61, 96, 62, 100, 30, 72, 53, 88, 16, 67, 31, 65, 39, 95, 43, 85, 46, 68, 28, 75, 36, 73, 47, 74, 50, 100, 15, 92, 47, 82, 51, 77, 18, 86, 55, 92, 64, 99, 29, 93, 57, 81, 47, 66, 41, 93, 31, 97, 48, 78, 28, 92, 13, 71, 33, 83, 54, 100, 52, 79, 45, 80, 43, 66, 64, 96, 40, 84, 47, 85, 37, 74, 32, 80, 38, 80, 30, 80, 42, 97, 64, 99, 25, 83, 49, 81, 34, 94, 16, 66, 24, 76, 56, 81, 58, 65, 28, 95, 57, 85, 31, 77, 23, 98, 25, 90, 56, 95, 40, 86, 20, 83, 34, 79, 52, 68, 46, 90, 28, 99, 46, 86, 58, 72, 23, 96, 40, 83, 56, 88, 25, 91, 50, 86, 13, 96, 64, 65, 60, 86, 15, 100, 63, 75, 39, 70, 15, 88, 30, 94, 21, 70, 23, 100, 42, 88, 17, 90, 17, 68, 42, 81, 25, 71, 26, 93, 26, 66, 41, 95, 17, 91, 58, 83, 56, 86, 30, 99, 44, 76, 13, 81, 32, 75, 19, 89, 27, 66, 16, 89, 64, 94, 44, 97, 28, 87, 60, 95, 18, 69, 51, 83, 37, 99, 46, 97, 59, 100, 52, 74, 39, 88, 55, 71, 40, 88, 62, 90, 59, 80, 62, 87, 25, 69, 63, 89, 24, 66, 16, 80, 60, 99, 22, 95, 33, 72, 36, 66, 34, 95, 27, 74, 48, 90, 46, 69, 21, 92, 51, 100, 56, 85, 63, 91, 54, 78, 62, 94, 23, 90, 45, 76, 33, 90, 25, 81, 35, 85, 36, 79, 18, 67, 44, 96, 27, 78, 53, 86, 44, 85, 14, 78, 25, 84, 24, 70, 61, 93, 53, 88, 32, 86, 32, 72, 48, 71, 28, 68, 50, 89, 52, 73, 32, 71, 13, 89, 53, 83, 39, 84, 56, 77, 15, 85, 35, 95, 61, 81, 26, 98, 34, 80, 62, 76, 30, 99, 41, 67, 63, 100, 51, 90]\n"
     ]
    }
   ],
   "source": [
    "print(train_samples)"
   ]
  },
  {
   "cell_type": "code",
   "execution_count": 37,
   "id": "9afbda39",
   "metadata": {},
   "outputs": [],
   "source": [
    "df = pd.DataFrame(train_labels,train_samples,columns=['c'])"
   ]
  },
  {
   "cell_type": "code",
   "execution_count": 38,
   "id": "8ccbebe7",
   "metadata": {},
   "outputs": [
    {
     "data": {
      "text/html": [
       "<div>\n",
       "<style scoped>\n",
       "    .dataframe tbody tr th:only-of-type {\n",
       "        vertical-align: middle;\n",
       "    }\n",
       "\n",
       "    .dataframe tbody tr th {\n",
       "        vertical-align: top;\n",
       "    }\n",
       "\n",
       "    .dataframe thead th {\n",
       "        text-align: right;\n",
       "    }\n",
       "</style>\n",
       "<table border=\"1\" class=\"dataframe\">\n",
       "  <thead>\n",
       "    <tr style=\"text-align: right;\">\n",
       "      <th></th>\n",
       "      <th>c</th>\n",
       "    </tr>\n",
       "  </thead>\n",
       "  <tbody>\n",
       "    <tr>\n",
       "      <th>60</th>\n",
       "      <td>1</td>\n",
       "    </tr>\n",
       "    <tr>\n",
       "      <th>95</th>\n",
       "      <td>0</td>\n",
       "    </tr>\n",
       "    <tr>\n",
       "      <th>27</th>\n",
       "      <td>1</td>\n",
       "    </tr>\n",
       "    <tr>\n",
       "      <th>94</th>\n",
       "      <td>0</td>\n",
       "    </tr>\n",
       "    <tr>\n",
       "      <th>46</th>\n",
       "      <td>1</td>\n",
       "    </tr>\n",
       "    <tr>\n",
       "      <th>...</th>\n",
       "      <td>...</td>\n",
       "    </tr>\n",
       "    <tr>\n",
       "      <th>67</th>\n",
       "      <td>0</td>\n",
       "    </tr>\n",
       "    <tr>\n",
       "      <th>63</th>\n",
       "      <td>1</td>\n",
       "    </tr>\n",
       "    <tr>\n",
       "      <th>100</th>\n",
       "      <td>0</td>\n",
       "    </tr>\n",
       "    <tr>\n",
       "      <th>51</th>\n",
       "      <td>1</td>\n",
       "    </tr>\n",
       "    <tr>\n",
       "      <th>90</th>\n",
       "      <td>0</td>\n",
       "    </tr>\n",
       "  </tbody>\n",
       "</table>\n",
       "<p>2100 rows × 1 columns</p>\n",
       "</div>"
      ],
      "text/plain": [
       "     c\n",
       "60   1\n",
       "95   0\n",
       "27   1\n",
       "94   0\n",
       "46   1\n",
       "..  ..\n",
       "67   0\n",
       "63   1\n",
       "100  0\n",
       "51   1\n",
       "90   0\n",
       "\n",
       "[2100 rows x 1 columns]"
      ]
     },
     "execution_count": 38,
     "metadata": {},
     "output_type": "execute_result"
    }
   ],
   "source": [
    "df"
   ]
  },
  {
   "cell_type": "code",
   "execution_count": 39,
   "id": "422c2146",
   "metadata": {},
   "outputs": [],
   "source": [
    "train_labels = np.array(train_labels)\n",
    "train_samples = np.array(train_samples)\n",
    "train_labels,train_samples = shuffle(train_labels,train_samples)"
   ]
  },
  {
   "cell_type": "code",
   "execution_count": 40,
   "id": "89b8abfa",
   "metadata": {},
   "outputs": [],
   "source": [
    "scalar =MinMaxScaler(feature_range = (0,1))\n",
    "scaled_train_samples = scalar.fit_transform(train_samples.reshape(-1,1))"
   ]
  },
  {
   "cell_type": "code",
   "execution_count": 41,
   "id": "6aeb5f55",
   "metadata": {},
   "outputs": [
    {
     "name": "stdout",
     "output_type": "stream",
     "text": [
      "[[0.70114943]\n",
      " [0.24137931]\n",
      " [0.72413793]\n",
      " ...\n",
      " [0.43678161]\n",
      " [0.14942529]\n",
      " [1.        ]]\n"
     ]
    }
   ],
   "source": [
    "print(scaled_train_samples)"
   ]
  },
  {
   "cell_type": "code",
   "execution_count": 1,
   "id": "8dba76fe",
   "metadata": {},
   "outputs": [
    {
     "name": "stdout",
     "output_type": "stream",
     "text": [
      "Hello world\n"
     ]
    }
   ],
   "source": [
    "print(\"Hello world\")"
   ]
  },
  {
   "cell_type": "code",
   "execution_count": 2,
   "id": "3c068cff",
   "metadata": {},
   "outputs": [],
   "source": [
    "import tensorflow as tf"
   ]
  },
  {
   "cell_type": "code",
   "execution_count": 43,
   "id": "4a633e22",
   "metadata": {},
   "outputs": [
    {
     "name": "stdout",
     "output_type": "stream",
     "text": [
      "Collecting tensorflow\n",
      "  Downloading tensorflow-2.9.1-cp39-cp39-win_amd64.whl (444.0 MB)\n",
      "Collecting protobuf<3.20,>=3.9.2\n",
      "  Downloading protobuf-3.19.4-cp39-cp39-win_amd64.whl (895 kB)\n",
      "Collecting libclang>=13.0.0\n",
      "  Downloading libclang-14.0.6-py2.py3-none-win_amd64.whl (14.2 MB)\n",
      "Collecting opt-einsum>=2.3.2\n",
      "  Downloading opt_einsum-3.3.0-py3-none-any.whl (65 kB)\n",
      "Requirement already satisfied: setuptools in c:\\users\\chandu\\anaconda3\\lib\\site-packages (from tensorflow) (58.0.4)\n",
      "Collecting termcolor>=1.1.0\n",
      "  Using cached termcolor-1.1.0.tar.gz (3.9 kB)\n",
      "Collecting tensorboard<2.10,>=2.9\n",
      "  Downloading tensorboard-2.9.1-py3-none-any.whl (5.8 MB)\n",
      "Collecting absl-py>=1.0.0\n",
      "  Downloading absl_py-1.2.0-py3-none-any.whl (123 kB)\n",
      "Collecting keras-preprocessing>=1.1.1\n",
      "  Downloading Keras_Preprocessing-1.1.2-py2.py3-none-any.whl (42 kB)\n",
      "Collecting grpcio<2.0,>=1.24.3\n",
      "  Downloading grpcio-1.47.0-cp39-cp39-win_amd64.whl (3.6 MB)\n",
      "Requirement already satisfied: wrapt>=1.11.0 in c:\\users\\chandu\\anaconda3\\lib\\site-packages (from tensorflow) (1.12.1)\n",
      "Requirement already satisfied: numpy>=1.20 in c:\\users\\chandu\\anaconda3\\lib\\site-packages (from tensorflow) (1.20.3)\n",
      "Requirement already satisfied: packaging in c:\\users\\chandu\\anaconda3\\lib\\site-packages (from tensorflow) (21.0)\n",
      "Requirement already satisfied: typing-extensions>=3.6.6 in c:\\users\\chandu\\anaconda3\\lib\\site-packages (from tensorflow) (3.10.0.2)\n",
      "Collecting astunparse>=1.6.0\n",
      "  Downloading astunparse-1.6.3-py2.py3-none-any.whl (12 kB)\n",
      "Collecting tensorflow-estimator<2.10.0,>=2.9.0rc0\n",
      "  Downloading tensorflow_estimator-2.9.0-py2.py3-none-any.whl (438 kB)\n",
      "Requirement already satisfied: h5py>=2.9.0 in c:\\users\\chandu\\anaconda3\\lib\\site-packages (from tensorflow) (3.2.1)\n",
      "Collecting keras<2.10.0,>=2.9.0rc0\n",
      "  Downloading keras-2.9.0-py2.py3-none-any.whl (1.6 MB)\n",
      "Collecting google-pasta>=0.1.1\n",
      "  Downloading google_pasta-0.2.0-py3-none-any.whl (57 kB)\n",
      "Collecting tensorflow-io-gcs-filesystem>=0.23.1\n",
      "  Downloading tensorflow_io_gcs_filesystem-0.26.0-cp39-cp39-win_amd64.whl (1.5 MB)\n",
      "Collecting flatbuffers<2,>=1.12\n",
      "  Downloading flatbuffers-1.12-py2.py3-none-any.whl (15 kB)\n",
      "Collecting gast<=0.4.0,>=0.2.1\n",
      "  Downloading gast-0.4.0-py3-none-any.whl (9.8 kB)\n",
      "Requirement already satisfied: six>=1.12.0 in c:\\users\\chandu\\anaconda3\\lib\\site-packages (from tensorflow) (1.16.0)\n",
      "Requirement already satisfied: wheel<1.0,>=0.23.0 in c:\\users\\chandu\\anaconda3\\lib\\site-packages (from astunparse>=1.6.0->tensorflow) (0.37.0)\n",
      "Collecting google-auth-oauthlib<0.5,>=0.4.1\n",
      "  Downloading google_auth_oauthlib-0.4.6-py2.py3-none-any.whl (18 kB)\n",
      "Requirement already satisfied: werkzeug>=1.0.1 in c:\\users\\chandu\\anaconda3\\lib\\site-packages (from tensorboard<2.10,>=2.9->tensorflow) (2.0.2)\n",
      "Collecting tensorboard-data-server<0.7.0,>=0.6.0\n",
      "  Downloading tensorboard_data_server-0.6.1-py3-none-any.whl (2.4 kB)\n",
      "Collecting google-auth<3,>=1.6.3\n",
      "  Downloading google_auth-2.10.0-py2.py3-none-any.whl (167 kB)\n",
      "Collecting markdown>=2.6.8\n",
      "  Downloading Markdown-3.4.1-py3-none-any.whl (93 kB)\n",
      "Requirement already satisfied: requests<3,>=2.21.0 in c:\\users\\chandu\\anaconda3\\lib\\site-packages (from tensorboard<2.10,>=2.9->tensorflow) (2.26.0)\n",
      "Collecting tensorboard-plugin-wit>=1.6.0\n",
      "  Downloading tensorboard_plugin_wit-1.8.1-py3-none-any.whl (781 kB)\n",
      "Collecting rsa<5,>=3.1.4\n",
      "  Downloading rsa-4.9-py3-none-any.whl (34 kB)\n",
      "Collecting pyasn1-modules>=0.2.1\n",
      "  Downloading pyasn1_modules-0.2.8-py2.py3-none-any.whl (155 kB)\n",
      "Collecting cachetools<6.0,>=2.0.0\n",
      "  Downloading cachetools-5.2.0-py3-none-any.whl (9.3 kB)\n",
      "Collecting requests-oauthlib>=0.7.0\n",
      "  Downloading requests_oauthlib-1.3.1-py2.py3-none-any.whl (23 kB)\n",
      "Requirement already satisfied: importlib-metadata>=4.4 in c:\\users\\chandu\\anaconda3\\lib\\site-packages (from markdown>=2.6.8->tensorboard<2.10,>=2.9->tensorflow) (4.8.1)\n",
      "Requirement already satisfied: zipp>=0.5 in c:\\users\\chandu\\anaconda3\\lib\\site-packages (from importlib-metadata>=4.4->markdown>=2.6.8->tensorboard<2.10,>=2.9->tensorflow) (3.6.0)\n",
      "Collecting pyasn1<0.5.0,>=0.4.6\n",
      "  Downloading pyasn1-0.4.8-py2.py3-none-any.whl (77 kB)\n",
      "Requirement already satisfied: urllib3<1.27,>=1.21.1 in c:\\users\\chandu\\anaconda3\\lib\\site-packages (from requests<3,>=2.21.0->tensorboard<2.10,>=2.9->tensorflow) (1.26.7)\n",
      "Requirement already satisfied: certifi>=2017.4.17 in c:\\users\\chandu\\anaconda3\\lib\\site-packages (from requests<3,>=2.21.0->tensorboard<2.10,>=2.9->tensorflow) (2021.10.8)\n",
      "Requirement already satisfied: charset-normalizer~=2.0.0 in c:\\users\\chandu\\anaconda3\\lib\\site-packages (from requests<3,>=2.21.0->tensorboard<2.10,>=2.9->tensorflow) (2.0.4)\n",
      "Requirement already satisfied: idna<4,>=2.5 in c:\\users\\chandu\\anaconda3\\lib\\site-packages (from requests<3,>=2.21.0->tensorboard<2.10,>=2.9->tensorflow) (3.2)\n",
      "Collecting oauthlib>=3.0.0\n",
      "  Downloading oauthlib-3.2.0-py3-none-any.whl (151 kB)\n",
      "Requirement already satisfied: pyparsing>=2.0.2 in c:\\users\\chandu\\anaconda3\\lib\\site-packages (from packaging->tensorflow) (3.0.4)\n",
      "Building wheels for collected packages: termcolor\n",
      "  Building wheel for termcolor (setup.py): started\n",
      "  Building wheel for termcolor (setup.py): finished with status 'done'\n",
      "  Created wheel for termcolor: filename=termcolor-1.1.0-py3-none-any.whl size=4847 sha256=85274b6e3ab25ec110eeb8881532b376d044d3baee1c3f00eae87428524d6d4f\n",
      "  Stored in directory: c:\\users\\chandu\\appdata\\local\\pip\\cache\\wheels\\b6\\0d\\90\\0d1bbd99855f99cb2f6c2e5ff96f8023fad8ec367695f7d72d\n",
      "Successfully built termcolor\n",
      "Installing collected packages: pyasn1, rsa, pyasn1-modules, oauthlib, cachetools, requests-oauthlib, google-auth, tensorboard-plugin-wit, tensorboard-data-server, protobuf, markdown, grpcio, google-auth-oauthlib, absl-py, termcolor, tensorflow-io-gcs-filesystem, tensorflow-estimator, tensorboard, opt-einsum, libclang, keras-preprocessing, keras, google-pasta, gast, flatbuffers, astunparse, tensorflow\n",
      "  Attempting uninstall: protobuf\n",
      "    Found existing installation: protobuf 4.21.1\n",
      "    Uninstalling protobuf-4.21.1:\n",
      "      Successfully uninstalled protobuf-4.21.1\n",
      "Successfully installed absl-py-1.2.0 astunparse-1.6.3 cachetools-5.2.0 flatbuffers-1.12 gast-0.4.0 google-auth-2.10.0 google-auth-oauthlib-0.4.6 google-pasta-0.2.0 grpcio-1.47.0 keras-2.9.0 keras-preprocessing-1.1.2 libclang-14.0.6 markdown-3.4.1 oauthlib-3.2.0 opt-einsum-3.3.0 protobuf-3.19.4 pyasn1-0.4.8 pyasn1-modules-0.2.8 requests-oauthlib-1.3.1 rsa-4.9 tensorboard-2.9.1 tensorboard-data-server-0.6.1 tensorboard-plugin-wit-1.8.1 tensorflow-2.9.1 tensorflow-estimator-2.9.0 tensorflow-io-gcs-filesystem-0.26.0 termcolor-1.1.0\n",
      "Note: you may need to restart the kernel to use updated packages.\n"
     ]
    }
   ],
   "source": [
    "pip install tensorflow"
   ]
  },
  {
   "cell_type": "code",
   "execution_count": 1,
   "id": "19d0b9fb",
   "metadata": {},
   "outputs": [
    {
     "name": "stderr",
     "output_type": "stream",
     "text": [
      "C:\\Users\\chandu\\anaconda3\\envs\\tensorflow\\lib\\site-packages\\scipy\\__init__.py:146: UserWarning: A NumPy version >=1.16.5 and <1.23.0 is required for this version of SciPy (detected version 1.23.1\n",
      "  warnings.warn(f\"A NumPy version >={np_minversion} and <{np_maxversion}\"\n"
     ]
    }
   ],
   "source": [
    "import tensorflow as tf\n",
    "from tensorflow import  keras\n",
    "from tensorflow.keras import Sequential\n",
    "from tensorflow.keras.layers import Activation,Dense\n",
    "from tensorflow.keras.optimizers import Adam\n",
    "from tensorflow.keras.metrics import categorical_crossentropy"
   ]
  },
  {
   "cell_type": "code",
   "execution_count": 3,
   "id": "5d35c637",
   "metadata": {},
   "outputs": [
    {
     "name": "stdout",
     "output_type": "stream",
     "text": [
      "Num GPUs Available: 1\n"
     ]
    }
   ],
   "source": [
    "physical_devices = tf.config.experimental.list_physical_devices(\"GPU\")\n",
    "print(\"Num GPUs Available:\",len(physical_devices))\n",
    "tf.config.experimental.set_memory_growth(physical_devices[0],True)"
   ]
  },
  {
   "cell_type": "code",
   "execution_count": 4,
   "id": "07c29449",
   "metadata": {},
   "outputs": [
    {
     "name": "stdout",
     "output_type": "stream",
     "text": [
      "Num GPUs: 1\n"
     ]
    }
   ],
   "source": [
    "physical_devices = tf.config.list_physical_devices('GPU')\n",
    "print(\"Num GPUs:\", len(physical_devices))"
   ]
  },
  {
   "cell_type": "code",
   "execution_count": 54,
   "id": "05ad4680",
   "metadata": {},
   "outputs": [
    {
     "name": "stdout",
     "output_type": "stream",
     "text": [
      "Note: you may need to restart the kernel to use updated packages.\n"
     ]
    },
    {
     "name": "stderr",
     "output_type": "stream",
     "text": [
      "ERROR: Could not find a version that satisfies the requirement CUDA (from versions: none)\n",
      "ERROR: No matching distribution found for CUDA\n"
     ]
    }
   ],
   "source": [
    "pip install CUDA"
   ]
  },
  {
   "cell_type": "code",
   "execution_count": 3,
   "id": "716e9966",
   "metadata": {},
   "outputs": [
    {
     "name": "stdout",
     "output_type": "stream",
     "text": [
      "Note: you may need to restart the kernel to use updated packages.\n"
     ]
    },
    {
     "name": "stderr",
     "output_type": "stream",
     "text": [
      "ERROR: Could not find a version that satisfies the requirement CuDNN (from versions: none)\n",
      "ERROR: No matching distribution found for CuDNN\n"
     ]
    }
   ],
   "source": [
    "pip install CuDNN"
   ]
  },
  {
   "cell_type": "code",
   "execution_count": null,
   "id": "dccf4397",
   "metadata": {},
   "outputs": [],
   "source": []
  }
 ],
 "metadata": {
  "kernelspec": {
   "display_name": "Python 3 (ipykernel)",
   "language": "python",
   "name": "python3"
  },
  "language_info": {
   "codemirror_mode": {
    "name": "ipython",
    "version": 3
   },
   "file_extension": ".py",
   "mimetype": "text/x-python",
   "name": "python",
   "nbconvert_exporter": "python",
   "pygments_lexer": "ipython3",
   "version": "3.8.0"
  }
 },
 "nbformat": 4,
 "nbformat_minor": 5
}
